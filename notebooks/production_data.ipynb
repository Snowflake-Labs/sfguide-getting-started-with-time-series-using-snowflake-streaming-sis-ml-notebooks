{
 "cells": [
  {
   "cell_type": "code",
   "execution_count": 1,
   "metadata": {},
   "outputs": [],
   "source": [
    "import os\n",
    "import os.path\n",
    "from snowflake.snowpark import Session, version, Window\n",
    "from cryptography.hazmat.backends import default_backend\n",
    "from cryptography.hazmat.primitives import serialization\n",
    "from datetime import datetime, timedelta\n",
    "from dateutil.relativedelta import relativedelta\n",
    "import pandas as pd\n",
    "import openpyxl as opxl"
   ]
  },
  {
   "cell_type": "code",
   "execution_count": 2,
   "metadata": {},
   "outputs": [],
   "source": [
    "snowflake_account = '<SNOWFLAKE_DEPLOYMENT>'\n",
    "snowflake_user = 'USER_HOL_TIMESERIES'\n",
    "snowflake_role = 'ROLE_HOL_TIMESERIES'\n",
    "snowflake_warehouse = 'HOL_INGEST_WH'\n",
    "snowflake_database = 'HOL_TIMESERIES'\n",
    "snowflake_schema = 'STAGING'"
   ]
  },
  {
   "cell_type": "code",
   "execution_count": 3,
   "metadata": {},
   "outputs": [],
   "source": [
    "passphrase=''\n",
    "\n",
    "# Load private key using passphrase\n",
    "with open('../keys/rsa_key.p8', 'rb') as key:\n",
    "    p_key = serialization.load_pem_private_key(\n",
    "        key.read(),\n",
    "        #password=passphrase.encode(),\n",
    "        password=None,\n",
    "        backend=default_backend()\n",
    "    )\n",
    "\n",
    "# Set private key for connection\n",
    "pkb = p_key.private_bytes(\n",
    "    encoding=serialization.Encoding.DER,\n",
    "    format=serialization.PrivateFormat.PKCS8,\n",
    "    encryption_algorithm=serialization.NoEncryption())"
   ]
  },
  {
   "cell_type": "code",
   "execution_count": 4,
   "metadata": {},
   "outputs": [
    {
     "name": "stdout",
     "output_type": "stream",
     "text": [
      "[Row(CURRENT_ACCOUNT()='LL97996', CURRENT_WAREHOUSE()='HOL_INGEST_WH', CURRENT_DATABASE()='HOL_TIMESERIES', CURRENT_SCHEMA()='STAGING', CURRENT_USER()='USER_HOL_TIMESERIES', CURRENT_ROLE()='ROLE_HOL_TIMESERIES')]\n",
      "(1, 13, 0)\n"
     ]
    }
   ],
   "source": [
    "connection_parameters = {\n",
    "    'account': snowflake_account,\n",
    "    'user': snowflake_user,\n",
    "    'private_key': pkb,\n",
    "    'role': snowflake_role,\n",
    "    'warehouse': snowflake_warehouse,\n",
    "    'database': snowflake_database,\n",
    "    'schema': snowflake_schema\n",
    "}\n",
    "\n",
    "# Connect to Snowflake using OAuth\n",
    "session = Session.builder.configs(connection_parameters).create()\n",
    "\n",
    "print(session.sql('select current_account(), current_warehouse(), current_database(), current_schema(), current_user(), current_role()').collect())\n",
    "\n",
    "# Print the current version of the Snowpark library\n",
    "print(version.VERSION)"
   ]
  },
  {
   "cell_type": "code",
   "execution_count": 5,
   "metadata": {},
   "outputs": [],
   "source": [
    "df = pd.read_excel(open('../data/production_data/dataset/Volve production data.xlsx', 'rb'),\n",
    "              sheet_name='Daily Production Data')"
   ]
  },
  {
   "cell_type": "code",
   "execution_count": 6,
   "metadata": {},
   "outputs": [
    {
     "name": "stdout",
     "output_type": "stream",
     "text": [
      "-------------------------------------------------------------------------------------------------------------------------------------------------------------------------------------------------------------------------------------------------------------------------------------------------------------------------------------------------------------------------------------------------------------------------------------------------------------------------------\n",
      "|\"DATEPRD\"            |\"WELL_BORE_CODE\"  |\"NPD_WELL_BORE_CODE\"  |\"NPD_WELL_BORE_NAME\"  |\"NPD_FIELD_CODE\"  |\"NPD_FIELD_NAME\"  |\"NPD_FACILITY_CODE\"  |\"NPD_FACILITY_NAME\"  |\"ON_STREAM_HRS\"  |\"AVG_DOWNHOLE_PRESSURE\"  |\"AVG_DOWNHOLE_TEMPERATURE\"  |\"AVG_DP_TUBING\"  |\"AVG_ANNULUS_PRESS\"  |\"AVG_CHOKE_SIZE_P\"  |\"AVG_CHOKE_UOM\"  |\"AVG_WHP_P\"  |\"AVG_WHT_P\"  |\"DP_CHOKE_SIZE\"  |\"BORE_OIL_VOL\"  |\"BORE_GAS_VOL\"  |\"BORE_WAT_VOL\"  |\"BORE_WI_VOL\"  |\"FLOW_KIND\"  |\"WELL_TYPE\"  |\n",
      "-------------------------------------------------------------------------------------------------------------------------------------------------------------------------------------------------------------------------------------------------------------------------------------------------------------------------------------------------------------------------------------------------------------------------------------------------------------------------------\n",
      "|2014-04-07 00:00:00  |NO 15/9-F-1 C     |7405                  |15/9-F-1 C            |3420717           |VOLVE             |369304               |MÆRSK INSPIRER       |0.0              |0.0                      |0.0                         |0.0              |0.0                  |0.0                 |%                |0.0          |0.0          |0.0              |0.0             |0.0             |0.0             |NULL           |production   |WI           |\n",
      "|2014-04-08 00:00:00  |NO 15/9-F-1 C     |7405                  |15/9-F-1 C            |3420717           |VOLVE             |369304               |MÆRSK INSPIRER       |0.0              |NULL                     |NULL                        |NULL             |0.0                  |1.0030591666666666  |%                |0.0          |0.0          |0.0              |0.0             |0.0             |0.0             |NULL           |production   |OP           |\n",
      "|2014-04-09 00:00:00  |NO 15/9-F-1 C     |7405                  |15/9-F-1 C            |3420717           |VOLVE             |369304               |MÆRSK INSPIRER       |0.0              |NULL                     |NULL                        |NULL             |0.0                  |0.9790077083333333  |%                |0.0          |0.0          |0.0              |0.0             |0.0             |0.0             |NULL           |production   |OP           |\n",
      "|2014-04-10 00:00:00  |NO 15/9-F-1 C     |7405                  |15/9-F-1 C            |3420717           |VOLVE             |369304               |MÆRSK INSPIRER       |0.0              |NULL                     |NULL                        |NULL             |0.0                  |0.5457591666666667  |%                |0.0          |0.0          |0.0              |0.0             |0.0             |0.0             |NULL           |production   |OP           |\n",
      "|2014-04-11 00:00:00  |NO 15/9-F-1 C     |7405                  |15/9-F-1 C            |3420717           |VOLVE             |369304               |MÆRSK INSPIRER       |0.0              |310.37614                |96.87589                    |277.27826        |0.0                  |1.215986875         |%                |33.09788     |10.47992     |33.07195         |0.0             |0.0             |0.0             |NULL           |production   |OP           |\n",
      "|2014-04-12 00:00:00  |NO 15/9-F-1 C     |7405                  |15/9-F-1 C            |3420717           |VOLVE             |369304               |MÆRSK INSPIRER       |0.0              |303.50078                |96.92339                    |281.44744        |0.0                  |3.0870154166666666  |%                |22.05334     |8.70429      |22.05334         |0.0             |0.0             |0.0             |NULL           |production   |OP           |\n",
      "|2014-04-13 00:00:00  |NO 15/9-F-1 C     |7405                  |15/9-F-1 C            |3420717           |VOLVE             |369304               |MÆRSK INSPIRER       |0.0              |303.53481                |96.95885                    |276.032          |0.0                  |1.9623652083333334  |%                |27.50281     |9.42315      |16.16326         |0.0             |0.0             |0.0             |NULL           |production   |OP           |\n",
      "|2014-04-14 00:00:00  |NO 15/9-F-1 C     |7405                  |15/9-F-1 C            |3420717           |VOLVE             |369304               |MÆRSK INSPIRER       |0.0              |303.78228                |96.96873                    |282.78676        |0.0                  |0.0                 |%                |20.99552     |8.13137      |20.73712         |0.0             |0.0             |0.0             |NULL           |production   |OP           |\n",
      "|2014-04-15 00:00:00  |NO 15/9-F-1 C     |7405                  |15/9-F-1 C            |3420717           |VOLVE             |369304               |MÆRSK INSPIRER       |0.0              |303.85821                |97.02136                    |289.94067        |0.0                  |31.141855625        |%                |13.91754     |8.49833      |12.18153         |0.0             |0.0             |0.0             |NULL           |production   |OP           |\n",
      "|2014-04-16 00:00:00  |NO 15/9-F-1 C     |7405                  |15/9-F-1 C            |3420717           |VOLVE             |369304               |MÆRSK INSPIRER       |0.0              |303.79187                |97.06569                    |299.67193        |0.0                  |0.0                 |%                |4.11994      |8.82124      |1.4902           |0.0             |0.0             |0.0             |NULL           |production   |OP           |\n",
      "-------------------------------------------------------------------------------------------------------------------------------------------------------------------------------------------------------------------------------------------------------------------------------------------------------------------------------------------------------------------------------------------------------------------------------------------------------------------------------\n",
      "\n"
     ]
    }
   ],
   "source": [
    "df_snow = session.create_dataframe(df)\n",
    "# Write out data frame to table\n",
    "df_snow.write.mode(\"overwrite\").save_as_table(\"RAW_TS_PRODUCTION_DATA\")\n",
    "df_snow.show()"
   ]
  }
 ],
 "metadata": {
  "kernelspec": {
   "display_name": "hol-timeseries",
   "language": "python",
   "name": "python3"
  },
  "language_info": {
   "codemirror_mode": {
    "name": "ipython",
    "version": 3
   },
   "file_extension": ".py",
   "mimetype": "text/x-python",
   "name": "python",
   "nbconvert_exporter": "python",
   "pygments_lexer": "ipython3",
   "version": "3.11.8"
  }
 },
 "nbformat": 4,
 "nbformat_minor": 2
}
