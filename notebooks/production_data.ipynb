{
 "cells": [
  {
   "cell_type": "code",
   "execution_count": null,
   "metadata": {},
   "outputs": [],
   "source": [
    "import os\n",
    "import os.path\n",
    "from snowflake.snowpark import Session, version, Window\n",
    "from cryptography.hazmat.backends import default_backend\n",
    "from cryptography.hazmat.primitives import serialization\n",
    "from datetime import datetime, timedelta\n",
    "from dateutil.relativedelta import relativedelta\n",
    "import pandas as pd\n",
    "import openpyxl as opxl"
   ]
  },
  {
   "cell_type": "code",
   "execution_count": null,
   "metadata": {},
   "outputs": [],
   "source": [
    "snowflake_account = '<SNOWFLAKE_DEPLOYMENT>'\n",
    "snowflake_user = 'USER_HOL_TIMESERIES'\n",
    "snowflake_role = 'ROLE_HOL_TIMESERIES'\n",
    "snowflake_warehouse = 'HOL_INGEST_WH'\n",
    "snowflake_database = 'HOL_TIMESERIES'\n",
    "snowflake_schema = 'STAGING'"
   ]
  },
  {
   "cell_type": "code",
   "execution_count": null,
   "metadata": {},
   "outputs": [],
   "source": [
    "passphrase=''\n",
    "\n",
    "# Load private key using passphrase\n",
    "with open('../keys/rsa_key.p8', 'rb') as key:\n",
    "    p_key = serialization.load_pem_private_key(\n",
    "        key.read(),\n",
    "        #password=passphrase.encode(),\n",
    "        password=None,\n",
    "        backend=default_backend()\n",
    "    )\n",
    "\n",
    "# Set private key for connection\n",
    "pkb = p_key.private_bytes(\n",
    "    encoding=serialization.Encoding.DER,\n",
    "    format=serialization.PrivateFormat.PKCS8,\n",
    "    encryption_algorithm=serialization.NoEncryption())"
   ]
  },
  {
   "cell_type": "code",
   "execution_count": null,
   "metadata": {},
   "outputs": [],
   "source": [
    "connection_parameters = {\n",
    "    'account': snowflake_account,\n",
    "    'user': snowflake_user,\n",
    "    'private_key': pkb,\n",
    "    'role': snowflake_role,\n",
    "    'warehouse': snowflake_warehouse,\n",
    "    'database': snowflake_database,\n",
    "    'schema': snowflake_schema\n",
    "}\n",
    "\n",
    "# Connect to Snowflake using OAuth\n",
    "session = Session.builder.configs(connection_parameters).create()\n",
    "\n",
    "print(session.sql('select current_account(), current_warehouse(), current_database(), current_schema(), current_user(), current_role()').collect())\n",
    "\n",
    "# Print the current version of the Snowpark library\n",
    "print(version.VERSION)"
   ]
  },
  {
   "cell_type": "code",
   "execution_count": null,
   "metadata": {},
   "outputs": [],
   "source": [
    "df = pd.read_excel(open('../data/production_data/dataset/Volve production data.xlsx', 'rb'),\n",
    "              sheet_name='Daily Production Data')"
   ]
  },
  {
   "cell_type": "code",
   "execution_count": null,
   "metadata": {},
   "outputs": [],
   "source": [
    "df_snow = session.create_dataframe(df)\n",
    "# Write out data frame to table\n",
    "df_snow.write.mode(\"overwrite\").save_as_table(\"RAW_TS_PRODUCTION_DATA\")\n",
    "df_snow.show()"
   ]
  }
 ],
 "metadata": {
  "kernelspec": {
   "display_name": "hol-timeseries",
   "language": "python",
   "name": "python3"
  },
  "language_info": {
   "codemirror_mode": {
    "name": "ipython",
    "version": 3
   },
   "file_extension": ".py",
   "mimetype": "text/x-python",
   "name": "python",
   "nbconvert_exporter": "python",
   "pygments_lexer": "ipython3",
   "version": "3.11.8"
  }
 },
 "nbformat": 4,
 "nbformat_minor": 2
}
